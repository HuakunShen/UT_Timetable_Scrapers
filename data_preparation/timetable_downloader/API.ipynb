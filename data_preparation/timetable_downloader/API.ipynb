{
 "cells": [
  {
   "cell_type": "code",
   "execution_count": 1,
   "metadata": {},
   "outputs": [],
   "source": [
    "import requests\n",
    "from urllib.parse import urlparse\n",
    "import json"
   ]
  },
  {
   "cell_type": "code",
   "execution_count": 4,
   "metadata": {},
   "outputs": [],
   "source": [
    "url = \"https://timetable.iit.artsci.utoronto.ca/api/20205/courses?org=&code=CSC3&section=&studyyear=&daytime=&weekday=&prof=&breadth=&online=&waitlist=&available=&title=\"\n",
    "parsed_url = urlparse(url)"
   ]
  },
  {
   "cell_type": "code",
   "execution_count": 17,
   "metadata": {},
   "outputs": [],
   "source": [
    "res = requests.get(url)"
   ]
  },
  {
   "cell_type": "code",
   "execution_count": 3,
   "metadata": {},
   "outputs": [
    {
     "output_type": "stream",
     "name": "stdout",
     "text": "22  results\nCSC108H1-Y-20205\nCSC148H1-Y-20205\nCSC165H1-Y-20205\nCSC207H1-Y-20205\nCSC209H1-Y-20205\nCSC236H1-Y-20205\nCSC258H1-Y-20205\nCSC263H1-Y-20205\nCSC301H1-Y-20205\nCSC309H1-Y-20205\nCSC318H1-Y-20205\nCSC324H1-Y-20205\nCSC336H1-Y-20205\nCSC343H1-Y-20205\nCSC369H1-Y-20205\nCSC373H1-Y-20205\nCSC384H1-Y-20205\nCSC418H1-Y-20205\nCSC420H1-Y-20205\nCSC485H1-F-20205\nCSC494H1-Y-20205\nCSC495H1-Y-20205\n"
    }
   ],
   "source": [
    "params = {\n",
    "    'code': 'CSC'\n",
    "}\n",
    "# r = requests.get('https://timetable.iit.artsci.utoronto.ca/api/20199/courses', params=params)\n",
    "r = requests.get('https://timetable.iit.artsci.utoronto.ca/api/20205/courses', params=params)\n",
    "r_dict = r.json()\n",
    "print(len(r_dict), \"results: \")\n",
    "for key in r_dict.keys():\n",
    "    print(key)\n",
    "# print(r.url)\n",
    "# save json file locally\n"
   ]
  },
  {
   "cell_type": "code",
   "execution_count": null,
   "metadata": {},
   "outputs": [],
   "source": []
  }
 ],
 "metadata": {
  "language_info": {
   "codemirror_mode": {
    "name": "ipython",
    "version": 3
   },
   "file_extension": ".py",
   "mimetype": "text/x-python",
   "name": "python",
   "nbconvert_exporter": "python",
   "pygments_lexer": "ipython3",
   "version": "3.7.7-final"
  },
  "orig_nbformat": 2,
  "kernelspec": {
   "name": "python3",
   "display_name": "Python 3"
  }
 },
 "nbformat": 4,
 "nbformat_minor": 2
}